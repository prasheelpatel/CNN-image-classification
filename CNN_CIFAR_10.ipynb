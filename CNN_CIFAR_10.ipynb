{
  "cells": [
    {
      "cell_type": "markdown",
      "metadata": {
        "id": "I_Pz_FqoGpEp"
      },
      "source": [
        "# CNN for image classification in CIFAR-10<br>\n",
        "CIFAR-10 : Consists 60000 32x32 color images in 10 classes, with 6000 images/class (50000 training and 10000 test).\n",
        "10 classes :\n",
        "<ol start=\"0\">\n",
        "<li> airplane\n",
        "<li>  automobile\n",
        "<li> bird\n",
        "<li>  cat\n",
        "<li> deer\n",
        "<li> dog\n",
        "<li>  frog\n",
        "<li>  horse\n",
        "<li>  ship\n",
        "<li>  truck\n",
        "</ol>\n"
      ]
    },
    {
      "cell_type": "code",
      "execution_count": 14,
      "metadata": {
        "scrolled": true,
        "id": "t5p-XgClGpEq"
      },
      "outputs": [],
      "source": [
        "from __future__ import print_function\n",
        "import keras\n",
        "from keras.datasets import cifar10\n",
        "from keras.preprocessing.image import ImageDataGenerator\n",
        "from keras.models import Sequential\n",
        "from keras.layers import Dense, Dropout, Activation, Flatten\n",
        "from keras.layers import Conv2D, MaxPooling2D\n",
        "from tensorflow.keras.optimizers import RMSprop\n",
        "import numpy as np\n",
        "\n",
        "import matplotlib.pyplot as plt\n",
        "%matplotlib inline"
      ]
    },
    {
      "cell_type": "code",
      "execution_count": 15,
      "metadata": {
        "id": "J7Kx8XNNGpEs",
        "colab": {
          "base_uri": "https://localhost:8080/"
        },
        "outputId": "9b3eac39-bcbe-4193-d708-98d52df466a2"
      },
      "outputs": [
        {
          "output_type": "stream",
          "name": "stdout",
          "text": [
            "x_train shape: (50000, 32, 32, 3)\n",
            "50000 train samples\n",
            "10000 test samples\n"
          ]
        }
      ],
      "source": [
        "(x_train, y_train), (x_test, y_test) = cifar10.load_data()\n",
        "print('x_train shape:', x_train.shape)\n",
        "print(x_train.shape[0], 'train samples')\n",
        "print(x_test.shape[0], 'test samples')"
      ]
    },
    {
      "cell_type": "code",
      "execution_count": 16,
      "metadata": {
        "id": "9K3xHC6jGpEt",
        "colab": {
          "base_uri": "https://localhost:8080/"
        },
        "outputId": "f9a77aaf-6eb6-45ac-a515-1cd2d64ee464"
      },
      "outputs": [
        {
          "output_type": "execute_result",
          "data": {
            "text/plain": [
              "(32, 32, 3)"
            ]
          },
          "metadata": {},
          "execution_count": 16
        }
      ],
      "source": [
        "#32 x 32 x 3 numpy array\n",
        "x_train[333].shape"
      ]
    },
    {
      "cell_type": "code",
      "execution_count": 17,
      "metadata": {
        "id": "dIMkMIdRGpEt",
        "colab": {
          "base_uri": "https://localhost:8080/",
          "height": 284
        },
        "outputId": "500b5900-c525-4535-a025-b3f0cec67843"
      },
      "outputs": [
        {
          "output_type": "stream",
          "name": "stdout",
          "text": [
            "[3]\n"
          ]
        },
        {
          "output_type": "display_data",
          "data": {
            "text/plain": [
              "<Figure size 432x288 with 1 Axes>"
            ],
            "image/png": "[encoded data removed]"
          },
          "metadata": {
            "needs_background": "light"
          }
        }
      ],
      "source": [
        "# view an image\n",
        "print(y_train[333])\n",
        "plt.imshow(x_train[333]);"
      ]
    },
    {
      "cell_type": "code",
      "execution_count": 18,
      "metadata": {
        "id": "jytxFZtCGpEu",
        "colab": {
          "base_uri": "https://localhost:8080/"
        },
        "outputId": "a605ddd0-4b58-49ab-bf16-0b78c2a20d1d"
      },
      "outputs": [
        {
          "output_type": "execute_result",
          "data": {
            "text/plain": [
              "array([0., 0., 0., 1., 0., 0., 0., 0., 0., 0.], dtype=float32)"
            ]
          },
          "metadata": {},
          "execution_count": 18
        }
      ],
      "source": [
        "# classes to 1X10 matrix\n",
        "num_classes = 10\n",
        "y_train = keras.utils.np_utils.to_categorical(y_train, num_classes)\n",
        "y_test = keras.utils.np_utils.to_categorical(y_test, num_classes)\n",
        "# sample test\n",
        "y_train[333]"
      ]
    },
    {
      "cell_type": "code",
      "execution_count": 19,
      "metadata": {
        "id": "AsQ3Xwh8GpEu"
      },
      "outputs": [],
      "source": [
        "# scale\n",
        "x_train = x_train.astype('float32')\n",
        "x_test = x_test.astype('float32')\n",
        "mean = np.mean(x_train,axis=(0,1,2,3))\n",
        "std = np.std(x_train,axis=(0,1,2,3))\n",
        "\n",
        "x_train = (x_train-mean)/(std+1e-7)\n",
        "x_test = (x_test-mean)/(std+1e-7)"
      ]
    },
    {
      "cell_type": "markdown",
      "metadata": {
        "id": "0RTIixafGpEw"
      },
      "source": [
        "## model_1: Conv -> Conv -> MaxPool -> (Flatten) -> Dense -> Final Classification <br>"
      ]
    },
    {
      "cell_type": "code",
      "execution_count": 20,
      "metadata": {
        "id": "3Cj2C1sDGpEw",
        "colab": {
          "base_uri": "https://localhost:8080/"
        },
        "outputId": "fb4fbd99-bc7d-4bb9-adb0-2579e62b75a1"
      },
      "outputs": [
        {
          "output_type": "stream",
          "name": "stdout",
          "text": [
            "Model: \"sequential_2\"\n",
            "_________________________________________________________________\n",
            " Layer (type)                Output Shape              Param #   \n",
            "=================================================================\n",
            " conv2d_8 (Conv2D)           (None, 16, 16, 32)        2432      \n",
            "                                                                 \n",
            " conv2d_9 (Conv2D)           (None, 6, 6, 32)          25632     \n",
            "                                                                 \n",
            " max_pooling2d_4 (MaxPooling  (None, 3, 3, 32)         0         \n",
            " 2D)                                                             \n",
            "                                                                 \n",
            " dropout_5 (Dropout)         (None, 3, 3, 32)          0         \n",
            "                                                                 \n",
            " flatten_2 (Flatten)         (None, 288)               0         \n",
            "                                                                 \n",
            " dense_3 (Dense)             (None, 512)               147968    \n",
            "                                                                 \n",
            " dropout_6 (Dropout)         (None, 512)               0         \n",
            "                                                                 \n",
            " dense_4 (Dense)             (None, 10)                5130      \n",
            "                                                                 \n",
            "=================================================================\n",
            "Total params: 181,162\n",
            "Trainable params: 181,162\n",
            "Non-trainable params: 0\n",
            "_________________________________________________________________\n"
          ]
        }
      ],
      "source": [
        "model_1 = keras.models.Sequential([\n",
        "    keras.layers.Conv2D(32, kernel_size=5, activation='relu', strides = (2,2), padding='same',input_shape=x_train.shape[1:]), \n",
        "    keras.layers.Conv2D(32, kernel_size=5, activation='relu', strides = (2,2), ), \n",
        "    keras.layers.MaxPooling2D(pool_size=(2, 2)), \n",
        "    keras.layers.Dropout(0.25),\n",
        "    keras.layers.Flatten(),  \n",
        "    keras.layers.Dense(512, activation='relu'),\n",
        "    keras.layers.Dropout(0.5),\n",
        "    keras.layers.Dense(num_classes, activation='softmax'), \n",
        "])\n",
        "model_1.summary()\n"
      ]
    },
    {
      "cell_type": "code",
      "execution_count": 21,
      "metadata": {
        "id": "aQqM11OCGpEx",
        "colab": {
          "base_uri": "https://localhost:8080/"
        },
        "outputId": "c7fc9f3b-adde-494d-ecc1-e696c6f29925"
      },
      "outputs": [
        {
          "output_type": "stream",
          "name": "stdout",
          "text": [
            "Epoch 1/15\n",
            "391/391 [==============================] - 3s 7ms/step - loss: 1.7356 - accuracy: 0.3679 - val_loss: 1.4365 - val_accuracy: 0.4837\n",
            "Epoch 2/15\n",
            "391/391 [==============================] - 2s 6ms/step - loss: 1.4515 - accuracy: 0.4796 - val_loss: 1.3122 - val_accuracy: 0.5268\n",
            "Epoch 3/15\n",
            "391/391 [==============================] - 2s 6ms/step - loss: 1.3353 - accuracy: 0.5222 - val_loss: 1.2252 - val_accuracy: 0.5648\n",
            "Epoch 4/15\n",
            "391/391 [==============================] - 2s 6ms/step - loss: 1.2605 - accuracy: 0.5495 - val_loss: 1.1448 - val_accuracy: 0.5964\n",
            "Epoch 5/15\n",
            "391/391 [==============================] - 2s 6ms/step - loss: 1.2023 - accuracy: 0.5698 - val_loss: 1.1215 - val_accuracy: 0.6030\n",
            "Epoch 6/15\n",
            "391/391 [==============================] - 2s 6ms/step - loss: 1.1575 - accuracy: 0.5877 - val_loss: 1.1432 - val_accuracy: 0.5959\n",
            "Epoch 7/15\n",
            "391/391 [==============================] - 2s 6ms/step - loss: 1.1163 - accuracy: 0.6046 - val_loss: 1.0570 - val_accuracy: 0.6247\n",
            "Epoch 8/15\n",
            "391/391 [==============================] - 2s 6ms/step - loss: 1.0880 - accuracy: 0.6147 - val_loss: 1.0331 - val_accuracy: 0.6379\n",
            "Epoch 9/15\n",
            "391/391 [==============================] - 2s 6ms/step - loss: 1.0633 - accuracy: 0.6210 - val_loss: 1.0167 - val_accuracy: 0.6438\n",
            "Epoch 10/15\n",
            "391/391 [==============================] - 2s 6ms/step - loss: 1.0343 - accuracy: 0.6340 - val_loss: 1.0154 - val_accuracy: 0.6440\n",
            "Epoch 11/15\n",
            "391/391 [==============================] - 2s 6ms/step - loss: 1.0086 - accuracy: 0.6443 - val_loss: 0.9485 - val_accuracy: 0.6735\n",
            "Epoch 12/15\n",
            "391/391 [==============================] - 2s 6ms/step - loss: 0.9857 - accuracy: 0.6532 - val_loss: 0.9309 - val_accuracy: 0.6765\n",
            "Epoch 13/15\n",
            "391/391 [==============================] - 2s 6ms/step - loss: 0.9655 - accuracy: 0.6581 - val_loss: 0.9413 - val_accuracy: 0.6703\n",
            "Epoch 14/15\n",
            "391/391 [==============================] - 2s 6ms/step - loss: 0.9469 - accuracy: 0.6658 - val_loss: 0.9218 - val_accuracy: 0.6769\n",
            "Epoch 15/15\n",
            "391/391 [==============================] - 2s 6ms/step - loss: 0.9332 - accuracy: 0.6725 - val_loss: 0.9167 - val_accuracy: 0.6838\n"
          ]
        },
        {
          "output_type": "execute_result",
          "data": {
            "text/plain": [
              "<keras.callbacks.History at 0x7fcb075e0590>"
            ]
          },
          "metadata": {},
          "execution_count": 21
        }
      ],
      "source": [
        "from tensorflow.keras.optimizers import RMSprop\n",
        "batch_size = 128\n",
        "\n",
        "opt = RMSprop(learning_rate=0.0005, decay=1e-6)\n",
        "\n",
        "model_1.compile(loss='categorical_crossentropy',\n",
        "              optimizer=opt,\n",
        "              metrics=['accuracy'])\n",
        "\n",
        "model_1.fit(x_train, y_train,\n",
        "              batch_size=batch_size,\n",
        "              epochs=15,\n",
        "              validation_data=(x_test, y_test),\n",
        "              shuffle=True)"
      ]
    },
    {
      "cell_type": "code",
      "execution_count": 22,
      "metadata": {
        "id": "OL5IoMLUGpEy",
        "colab": {
          "base_uri": "https://localhost:8080/"
        },
        "outputId": "48321968-2846-44ed-8be9-3abf8fc48512"
      },
      "outputs": [
        {
          "output_type": "stream",
          "name": "stdout",
          "text": [
            "Test loss: 0.9167316555976868\n",
            "Test accuracy: 0.6837999820709229\n"
          ]
        }
      ],
      "source": [
        "score = model_1.evaluate(x_test, y_test, verbose=0)\n",
        "print('Test loss:', score[0])\n",
        "print('Test accuracy:', score[1])"
      ]
    },
    {
      "cell_type": "markdown",
      "metadata": {
        "collapsed": true,
        "id": "9H6h9Dk2GpEy"
      },
      "source": [
        "## model_2: Conv -> Conv -> MaxPool -> Conv -> Conv -> MaxPool -> Conv -> Conv -> MaxPool ->(Flatten) -> Dense -> Final Classification"
      ]
    },
    {
      "cell_type": "code",
      "execution_count": 23,
      "metadata": {
        "id": "o_2BrHgfsNn4",
        "colab": {
          "base_uri": "https://localhost:8080/"
        },
        "outputId": "1515a4f1-bfcb-4838-a6a9-5a50b2f2b2ca"
      },
      "outputs": [
        {
          "output_type": "stream",
          "name": "stdout",
          "text": [
            "Model: \"sequential_3\"\n",
            "_________________________________________________________________\n",
            " Layer (type)                Output Shape              Param #   \n",
            "=================================================================\n",
            " conv2d_10 (Conv2D)          (None, 32, 32, 32)        896       \n",
            "                                                                 \n",
            " batch_normalization_6 (Batc  (None, 32, 32, 32)       128       \n",
            " hNormalization)                                                 \n",
            "                                                                 \n",
            " conv2d_11 (Conv2D)          (None, 32, 32, 32)        9248      \n",
            "                                                                 \n",
            " batch_normalization_7 (Batc  (None, 32, 32, 32)       128       \n",
            " hNormalization)                                                 \n",
            "                                                                 \n",
            " max_pooling2d_5 (MaxPooling  (None, 16, 16, 32)       0         \n",
            " 2D)                                                             \n",
            "                                                                 \n",
            " dropout_7 (Dropout)         (None, 16, 16, 32)        0         \n",
            "                                                                 \n",
            " conv2d_12 (Conv2D)          (None, 16, 16, 64)        18496     \n",
            "                                                                 \n",
            " batch_normalization_8 (Batc  (None, 16, 16, 64)       256       \n",
            " hNormalization)                                                 \n",
            "                                                                 \n",
            " conv2d_13 (Conv2D)          (None, 16, 16, 64)        36928     \n",
            "                                                                 \n",
            " batch_normalization_9 (Batc  (None, 16, 16, 64)       256       \n",
            " hNormalization)                                                 \n",
            "                                                                 \n",
            " max_pooling2d_6 (MaxPooling  (None, 8, 8, 64)         0         \n",
            " 2D)                                                             \n",
            "                                                                 \n",
            " dropout_8 (Dropout)         (None, 8, 8, 64)          0         \n",
            "                                                                 \n",
            " conv2d_14 (Conv2D)          (None, 8, 8, 128)         73856     \n",
            "                                                                 \n",
            " batch_normalization_10 (Bat  (None, 8, 8, 128)        512       \n",
            " chNormalization)                                                \n",
            "                                                                 \n",
            " conv2d_15 (Conv2D)          (None, 8, 8, 128)         147584    \n",
            "                                                                 \n",
            " batch_normalization_11 (Bat  (None, 8, 8, 128)        512       \n",
            " chNormalization)                                                \n",
            "                                                                 \n",
            " max_pooling2d_7 (MaxPooling  (None, 4, 4, 128)        0         \n",
            " 2D)                                                             \n",
            "                                                                 \n",
            " dropout_9 (Dropout)         (None, 4, 4, 128)         0         \n",
            "                                                                 \n",
            " flatten_3 (Flatten)         (None, 2048)              0         \n",
            "                                                                 \n",
            " dense_5 (Dense)             (None, 10)                20490     \n",
            "                                                                 \n",
            "=================================================================\n",
            "Total params: 309,290\n",
            "Trainable params: 308,394\n",
            "Non-trainable params: 896\n",
            "_________________________________________________________________\n"
          ]
        }
      ],
      "source": [
        "\n",
        "wdecay=1e-4\n",
        "model_2 = keras.models.Sequential([\n",
        "    keras.layers.Conv2D(32, kernel_size=3,padding='same', activation='relu',kernel_regularizer=keras.regularizers.l2(wdecay), input_shape=x_train.shape[1:]), \n",
        "    keras.layers.BatchNormalization(),\n",
        "    keras.layers.Conv2D(32, kernel_size=3,padding='same', activation='relu',kernel_regularizer=keras.regularizers.l2(wdecay)), \n",
        "    keras.layers.BatchNormalization(),\n",
        "    keras.layers.MaxPooling2D(pool_size=(2, 2)), \n",
        "    keras.layers.Dropout(0.2),\n",
        "\n",
        "    keras.layers.Conv2D(64, kernel_size=3,padding='same', activation='relu',kernel_regularizer=keras.regularizers.l2(wdecay)), \n",
        "    keras.layers.BatchNormalization(),\n",
        "    keras.layers.Conv2D(64, kernel_size=3,padding='same', activation='relu',kernel_regularizer=keras.regularizers.l2(wdecay)), \n",
        "    keras.layers.BatchNormalization(),\n",
        "    keras.layers.MaxPooling2D(pool_size=(2, 2)), \n",
        "    keras.layers.Dropout(0.3),\n",
        "\n",
        "    keras.layers.Conv2D(128, kernel_size=3,padding='same', activation='relu',kernel_regularizer=keras.regularizers.l2(wdecay)), \n",
        "    keras.layers.BatchNormalization(),\n",
        "    keras.layers.Conv2D(128, kernel_size=3,padding='same', activation='relu',kernel_regularizer=keras.regularizers.l2(wdecay)), \n",
        "    keras.layers.BatchNormalization(),\n",
        "    keras.layers.MaxPooling2D(pool_size=(2, 2)), \n",
        "    keras.layers.Dropout(0.4),\n",
        "    \n",
        "    keras.layers.Flatten(), \n",
        "    keras.layers.Dense(num_classes, activation='softmax'),\n",
        "])\n",
        "model_2.summary()\n"
      ]
    },
    {
      "cell_type": "code",
      "execution_count": 25,
      "metadata": {
        "colab": {
          "base_uri": "https://localhost:8080/"
        },
        "id": "xdMS4C0IGpEz",
        "outputId": "d376c06a-2323-4a16-8858-c66585011199"
      },
      "outputs": [
        {
          "output_type": "stream",
          "name": "stdout",
          "text": [
            "Epoch 1/100\n",
            "781/781 [==============================] - 35s 43ms/step - loss: 1.4239 - accuracy: 0.5467 - val_loss: 1.3129 - val_accuracy: 0.6013 - lr: 0.0010\n",
            "Epoch 2/100\n",
            "781/781 [==============================] - 27s 34ms/step - loss: 1.1372 - accuracy: 0.6366 - val_loss: 1.0492 - val_accuracy: 0.6782 - lr: 0.0010\n",
            "Epoch 3/100\n",
            "781/781 [==============================] - 28s 35ms/step - loss: 0.9981 - accuracy: 0.6812 - val_loss: 0.9814 - val_accuracy: 0.7081 - lr: 0.0010\n",
            "Epoch 4/100\n",
            "781/781 [==============================] - 27s 34ms/step - loss: 0.9142 - accuracy: 0.7115 - val_loss: 0.7970 - val_accuracy: 0.7574 - lr: 0.0010\n",
            "Epoch 5/100\n",
            "781/781 [==============================] - 27s 34ms/step - loss: 0.8649 - accuracy: 0.7287 - val_loss: 0.7825 - val_accuracy: 0.7641 - lr: 0.0010\n",
            "Epoch 6/100\n",
            "781/781 [==============================] - 27s 35ms/step - loss: 0.8287 - accuracy: 0.7449 - val_loss: 0.7536 - val_accuracy: 0.7757 - lr: 0.0010\n",
            "Epoch 7/100\n",
            "781/781 [==============================] - 27s 34ms/step - loss: 0.8050 - accuracy: 0.7559 - val_loss: 0.8029 - val_accuracy: 0.7704 - lr: 0.0010\n",
            "Epoch 8/100\n",
            "781/781 [==============================] - 27s 34ms/step - loss: 0.7798 - accuracy: 0.7667 - val_loss: 0.7481 - val_accuracy: 0.7836 - lr: 0.0010\n",
            "Epoch 9/100\n",
            "781/781 [==============================] - 27s 35ms/step - loss: 0.7560 - accuracy: 0.7784 - val_loss: 0.7422 - val_accuracy: 0.7909 - lr: 0.0010\n",
            "Epoch 10/100\n",
            "781/781 [==============================] - 26s 34ms/step - loss: 0.7459 - accuracy: 0.7830 - val_loss: 0.7419 - val_accuracy: 0.7936 - lr: 0.0010\n",
            "Epoch 11/100\n",
            "781/781 [==============================] - 27s 34ms/step - loss: 0.7345 - accuracy: 0.7887 - val_loss: 0.6986 - val_accuracy: 0.8097 - lr: 0.0010\n",
            "Epoch 12/100\n",
            "781/781 [==============================] - 26s 34ms/step - loss: 0.7194 - accuracy: 0.7972 - val_loss: 0.6469 - val_accuracy: 0.8250 - lr: 0.0010\n",
            "Epoch 13/100\n",
            "781/781 [==============================] - 27s 34ms/step - loss: 0.7091 - accuracy: 0.8000 - val_loss: 0.6808 - val_accuracy: 0.8168 - lr: 0.0010\n",
            "Epoch 14/100\n",
            "781/781 [==============================] - 26s 34ms/step - loss: 0.7019 - accuracy: 0.8033 - val_loss: 0.7319 - val_accuracy: 0.8051 - lr: 0.0010\n",
            "Epoch 15/100\n",
            "781/781 [==============================] - 27s 34ms/step - loss: 0.6958 - accuracy: 0.8065 - val_loss: 0.6851 - val_accuracy: 0.8225 - lr: 0.0010\n",
            "Epoch 16/100\n",
            "781/781 [==============================] - 27s 34ms/step - loss: 0.6847 - accuracy: 0.8109 - val_loss: 0.6675 - val_accuracy: 0.8242 - lr: 0.0010\n",
            "Epoch 17/100\n",
            "781/781 [==============================] - 27s 34ms/step - loss: 0.6782 - accuracy: 0.8143 - val_loss: 0.6537 - val_accuracy: 0.8279 - lr: 0.0010\n",
            "Epoch 18/100\n",
            "781/781 [==============================] - 27s 35ms/step - loss: 0.6756 - accuracy: 0.8170 - val_loss: 0.6579 - val_accuracy: 0.8289 - lr: 0.0010\n",
            "Epoch 19/100\n",
            "781/781 [==============================] - 27s 34ms/step - loss: 0.6702 - accuracy: 0.8196 - val_loss: 0.6545 - val_accuracy: 0.8326 - lr: 0.0010\n",
            "Epoch 20/100\n",
            "781/781 [==============================] - 27s 34ms/step - loss: 0.6700 - accuracy: 0.8198 - val_loss: 0.6475 - val_accuracy: 0.8393 - lr: 0.0010\n",
            "Epoch 21/100\n",
            "781/781 [==============================] - 26s 34ms/step - loss: 0.6593 - accuracy: 0.8235 - val_loss: 0.6270 - val_accuracy: 0.8403 - lr: 0.0010\n",
            "Epoch 22/100\n",
            "781/781 [==============================] - 27s 35ms/step - loss: 0.6601 - accuracy: 0.8246 - val_loss: 0.6481 - val_accuracy: 0.8374 - lr: 0.0010\n",
            "Epoch 23/100\n",
            "781/781 [==============================] - 27s 34ms/step - loss: 0.6565 - accuracy: 0.8243 - val_loss: 0.6459 - val_accuracy: 0.8341 - lr: 0.0010\n",
            "Epoch 24/100\n",
            "781/781 [==============================] - 27s 35ms/step - loss: 0.6515 - accuracy: 0.8275 - val_loss: 0.6604 - val_accuracy: 0.8344 - lr: 0.0010\n",
            "Epoch 25/100\n",
            "781/781 [==============================] - 26s 34ms/step - loss: 0.6485 - accuracy: 0.8296 - val_loss: 0.6199 - val_accuracy: 0.8449 - lr: 0.0010\n",
            "Epoch 26/100\n",
            "781/781 [==============================] - 27s 34ms/step - loss: 0.6441 - accuracy: 0.8323 - val_loss: 0.6529 - val_accuracy: 0.8336 - lr: 0.0010\n",
            "Epoch 27/100\n",
            "781/781 [==============================] - 27s 34ms/step - loss: 0.6397 - accuracy: 0.8319 - val_loss: 0.6383 - val_accuracy: 0.8426 - lr: 0.0010\n",
            "Epoch 28/100\n",
            "781/781 [==============================] - 27s 34ms/step - loss: 0.6406 - accuracy: 0.8341 - val_loss: 0.7247 - val_accuracy: 0.8164 - lr: 0.0010\n",
            "Epoch 29/100\n",
            "781/781 [==============================] - 27s 34ms/step - loss: 0.6415 - accuracy: 0.8312 - val_loss: 0.6837 - val_accuracy: 0.8285 - lr: 0.0010\n",
            "Epoch 30/100\n",
            "781/781 [==============================] - 27s 34ms/step - loss: 0.6361 - accuracy: 0.8360 - val_loss: 0.6439 - val_accuracy: 0.8412 - lr: 0.0010\n",
            "Epoch 31/100\n",
            "781/781 [==============================] - 26s 34ms/step - loss: 0.6360 - accuracy: 0.8342 - val_loss: 0.6415 - val_accuracy: 0.8426 - lr: 0.0010\n",
            "Epoch 32/100\n",
            "781/781 [==============================] - 27s 35ms/step - loss: 0.5869 - accuracy: 0.8527 - val_loss: 0.5625 - val_accuracy: 0.8654 - lr: 5.0000e-04\n",
            "Epoch 33/100\n",
            "781/781 [==============================] - 27s 34ms/step - loss: 0.5741 - accuracy: 0.8564 - val_loss: 0.5479 - val_accuracy: 0.8690 - lr: 5.0000e-04\n",
            "Epoch 34/100\n",
            "781/781 [==============================] - 27s 34ms/step - loss: 0.5550 - accuracy: 0.8586 - val_loss: 0.5774 - val_accuracy: 0.8615 - lr: 5.0000e-04\n",
            "Epoch 35/100\n",
            "781/781 [==============================] - 27s 34ms/step - loss: 0.5476 - accuracy: 0.8610 - val_loss: 0.5583 - val_accuracy: 0.8679 - lr: 5.0000e-04\n",
            "Epoch 36/100\n",
            "781/781 [==============================] - 27s 34ms/step - loss: 0.5396 - accuracy: 0.8634 - val_loss: 0.5733 - val_accuracy: 0.8596 - lr: 5.0000e-04\n",
            "Epoch 37/100\n",
            "781/781 [==============================] - 27s 35ms/step - loss: 0.5388 - accuracy: 0.8623 - val_loss: 0.5810 - val_accuracy: 0.8572 - lr: 5.0000e-04\n",
            "Epoch 38/100\n",
            "781/781 [==============================] - 27s 34ms/step - loss: 0.5323 - accuracy: 0.8637 - val_loss: 0.5258 - val_accuracy: 0.8730 - lr: 5.0000e-04\n",
            "Epoch 39/100\n",
            "781/781 [==============================] - 27s 34ms/step - loss: 0.5297 - accuracy: 0.8623 - val_loss: 0.5681 - val_accuracy: 0.8606 - lr: 5.0000e-04\n",
            "Epoch 40/100\n",
            "781/781 [==============================] - 27s 34ms/step - loss: 0.5251 - accuracy: 0.8642 - val_loss: 0.5273 - val_accuracy: 0.8703 - lr: 5.0000e-04\n",
            "Epoch 41/100\n",
            "781/781 [==============================] - 27s 35ms/step - loss: 0.5185 - accuracy: 0.8639 - val_loss: 0.5310 - val_accuracy: 0.8696 - lr: 5.0000e-04\n",
            "Epoch 42/100\n",
            "781/781 [==============================] - 27s 35ms/step - loss: 0.5169 - accuracy: 0.8654 - val_loss: 0.5397 - val_accuracy: 0.8694 - lr: 5.0000e-04\n",
            "Epoch 43/100\n",
            "781/781 [==============================] - 26s 34ms/step - loss: 0.5170 - accuracy: 0.8654 - val_loss: 0.5746 - val_accuracy: 0.8579 - lr: 5.0000e-04\n",
            "Epoch 44/100\n",
            "781/781 [==============================] - 27s 34ms/step - loss: 0.5130 - accuracy: 0.8662 - val_loss: 0.5544 - val_accuracy: 0.8625 - lr: 5.0000e-04\n",
            "Epoch 45/100\n",
            "781/781 [==============================] - 27s 34ms/step - loss: 0.5059 - accuracy: 0.8680 - val_loss: 0.5527 - val_accuracy: 0.8644 - lr: 5.0000e-04\n",
            "Epoch 46/100\n",
            "781/781 [==============================] - 26s 34ms/step - loss: 0.5053 - accuracy: 0.8696 - val_loss: 0.5381 - val_accuracy: 0.8680 - lr: 5.0000e-04\n",
            "Epoch 47/100\n",
            "781/781 [==============================] - 27s 34ms/step - loss: 0.5082 - accuracy: 0.8683 - val_loss: 0.5314 - val_accuracy: 0.8711 - lr: 5.0000e-04\n",
            "Epoch 48/100\n",
            "781/781 [==============================] - 27s 34ms/step - loss: 0.4962 - accuracy: 0.8723 - val_loss: 0.5375 - val_accuracy: 0.8676 - lr: 5.0000e-04\n",
            "Epoch 49/100\n",
            "781/781 [==============================] - 27s 34ms/step - loss: 0.5034 - accuracy: 0.8680 - val_loss: 0.5403 - val_accuracy: 0.8677 - lr: 5.0000e-04\n",
            "Epoch 50/100\n",
            "781/781 [==============================] - 27s 35ms/step - loss: 0.5003 - accuracy: 0.8694 - val_loss: 0.5479 - val_accuracy: 0.8656 - lr: 5.0000e-04\n",
            "Epoch 51/100\n",
            "781/781 [==============================] - 27s 35ms/step - loss: 0.4945 - accuracy: 0.8717 - val_loss: 0.5255 - val_accuracy: 0.8691 - lr: 5.0000e-04\n",
            "Epoch 52/100\n",
            "781/781 [==============================] - 27s 35ms/step - loss: 0.4957 - accuracy: 0.8719 - val_loss: 0.4942 - val_accuracy: 0.8799 - lr: 5.0000e-04\n",
            "Epoch 53/100\n",
            "781/781 [==============================] - 27s 35ms/step - loss: 0.4987 - accuracy: 0.8704 - val_loss: 0.5137 - val_accuracy: 0.8747 - lr: 5.0000e-04\n",
            "Epoch 54/100\n",
            "781/781 [==============================] - 27s 34ms/step - loss: 0.4919 - accuracy: 0.8728 - val_loss: 0.5302 - val_accuracy: 0.8677 - lr: 5.0000e-04\n",
            "Epoch 55/100\n",
            "781/781 [==============================] - 27s 34ms/step - loss: 0.4901 - accuracy: 0.8731 - val_loss: 0.4935 - val_accuracy: 0.8762 - lr: 5.0000e-04\n",
            "Epoch 56/100\n",
            "781/781 [==============================] - 27s 35ms/step - loss: 0.4911 - accuracy: 0.8723 - val_loss: 0.5492 - val_accuracy: 0.8646 - lr: 5.0000e-04\n",
            "Epoch 57/100\n",
            "781/781 [==============================] - 27s 34ms/step - loss: 0.4878 - accuracy: 0.8733 - val_loss: 0.5150 - val_accuracy: 0.8731 - lr: 5.0000e-04\n",
            "Epoch 58/100\n",
            "781/781 [==============================] - 27s 34ms/step - loss: 0.4896 - accuracy: 0.8744 - val_loss: 0.5103 - val_accuracy: 0.8750 - lr: 5.0000e-04\n",
            "Epoch 59/100\n",
            "781/781 [==============================] - 27s 34ms/step - loss: 0.4895 - accuracy: 0.8730 - val_loss: 0.5358 - val_accuracy: 0.8644 - lr: 5.0000e-04\n",
            "Epoch 60/100\n",
            "781/781 [==============================] - 27s 34ms/step - loss: 0.4883 - accuracy: 0.8729 - val_loss: 0.4836 - val_accuracy: 0.8829 - lr: 5.0000e-04\n",
            "Epoch 61/100\n",
            "781/781 [==============================] - 27s 34ms/step - loss: 0.4819 - accuracy: 0.8754 - val_loss: 0.5070 - val_accuracy: 0.8764 - lr: 5.0000e-04\n",
            "Epoch 62/100\n",
            "781/781 [==============================] - 27s 35ms/step - loss: 0.4867 - accuracy: 0.8724 - val_loss: 0.5064 - val_accuracy: 0.8757 - lr: 5.0000e-04\n",
            "Epoch 63/100\n",
            "781/781 [==============================] - 27s 34ms/step - loss: 0.4811 - accuracy: 0.8729 - val_loss: 0.5447 - val_accuracy: 0.8646 - lr: 5.0000e-04\n",
            "Epoch 64/100\n",
            "781/781 [==============================] - 27s 35ms/step - loss: 0.4842 - accuracy: 0.8733 - val_loss: 0.5157 - val_accuracy: 0.8712 - lr: 5.0000e-04\n",
            "Epoch 65/100\n",
            "781/781 [==============================] - 27s 34ms/step - loss: 0.4815 - accuracy: 0.8755 - val_loss: 0.5463 - val_accuracy: 0.8625 - lr: 5.0000e-04\n",
            "Epoch 66/100\n",
            "781/781 [==============================] - 27s 35ms/step - loss: 0.4764 - accuracy: 0.8754 - val_loss: 0.4914 - val_accuracy: 0.8831 - lr: 5.0000e-04\n",
            "Epoch 67/100\n",
            "781/781 [==============================] - 27s 34ms/step - loss: 0.4761 - accuracy: 0.8768 - val_loss: 0.5286 - val_accuracy: 0.8681 - lr: 5.0000e-04\n",
            "Epoch 68/100\n",
            "781/781 [==============================] - 27s 34ms/step - loss: 0.4787 - accuracy: 0.8748 - val_loss: 0.5350 - val_accuracy: 0.8651 - lr: 5.0000e-04\n",
            "Epoch 69/100\n",
            "781/781 [==============================] - 27s 34ms/step - loss: 0.4788 - accuracy: 0.8750 - val_loss: 0.5388 - val_accuracy: 0.8667 - lr: 5.0000e-04\n",
            "Epoch 70/100\n",
            "781/781 [==============================] - 27s 34ms/step - loss: 0.4722 - accuracy: 0.8783 - val_loss: 0.5630 - val_accuracy: 0.8616 - lr: 5.0000e-04\n",
            "Epoch 71/100\n",
            "781/781 [==============================] - 27s 34ms/step - loss: 0.4760 - accuracy: 0.8759 - val_loss: 0.5114 - val_accuracy: 0.8746 - lr: 5.0000e-04\n",
            "Epoch 72/100\n",
            "781/781 [==============================] - 26s 34ms/step - loss: 0.4546 - accuracy: 0.8841 - val_loss: 0.4794 - val_accuracy: 0.8820 - lr: 3.0000e-04\n",
            "Epoch 73/100\n",
            "781/781 [==============================] - 26s 33ms/step - loss: 0.4458 - accuracy: 0.8881 - val_loss: 0.5162 - val_accuracy: 0.8719 - lr: 3.0000e-04\n",
            "Epoch 74/100\n",
            "781/781 [==============================] - 26s 34ms/step - loss: 0.4363 - accuracy: 0.8887 - val_loss: 0.4688 - val_accuracy: 0.8854 - lr: 3.0000e-04\n",
            "Epoch 75/100\n",
            "781/781 [==============================] - 27s 34ms/step - loss: 0.4375 - accuracy: 0.8882 - val_loss: 0.5018 - val_accuracy: 0.8757 - lr: 3.0000e-04\n",
            "Epoch 76/100\n",
            "781/781 [==============================] - 27s 34ms/step - loss: 0.4376 - accuracy: 0.8878 - val_loss: 0.5053 - val_accuracy: 0.8756 - lr: 3.0000e-04\n",
            "Epoch 77/100\n",
            "781/781 [==============================] - 27s 34ms/step - loss: 0.4291 - accuracy: 0.8912 - val_loss: 0.4751 - val_accuracy: 0.8812 - lr: 3.0000e-04\n",
            "Epoch 78/100\n",
            "781/781 [==============================] - 27s 34ms/step - loss: 0.4283 - accuracy: 0.8912 - val_loss: 0.4874 - val_accuracy: 0.8793 - lr: 3.0000e-04\n",
            "Epoch 79/100\n",
            "781/781 [==============================] - 27s 34ms/step - loss: 0.4248 - accuracy: 0.8913 - val_loss: 0.4797 - val_accuracy: 0.8807 - lr: 3.0000e-04\n",
            "Epoch 80/100\n",
            "781/781 [==============================] - 27s 34ms/step - loss: 0.4265 - accuracy: 0.8892 - val_loss: 0.4542 - val_accuracy: 0.8890 - lr: 3.0000e-04\n",
            "Epoch 81/100\n",
            "781/781 [==============================] - 26s 34ms/step - loss: 0.4220 - accuracy: 0.8906 - val_loss: 0.4611 - val_accuracy: 0.8880 - lr: 3.0000e-04\n",
            "Epoch 82/100\n",
            "781/781 [==============================] - 26s 34ms/step - loss: 0.4238 - accuracy: 0.8903 - val_loss: 0.4598 - val_accuracy: 0.8880 - lr: 3.0000e-04\n",
            "Epoch 83/100\n",
            "781/781 [==============================] - 26s 34ms/step - loss: 0.4246 - accuracy: 0.8896 - val_loss: 0.4489 - val_accuracy: 0.8912 - lr: 3.0000e-04\n",
            "Epoch 84/100\n",
            "781/781 [==============================] - 26s 34ms/step - loss: 0.4203 - accuracy: 0.8931 - val_loss: 0.4462 - val_accuracy: 0.8905 - lr: 3.0000e-04\n",
            "Epoch 85/100\n",
            "781/781 [==============================] - 26s 33ms/step - loss: 0.4158 - accuracy: 0.8920 - val_loss: 0.4344 - val_accuracy: 0.8921 - lr: 3.0000e-04\n",
            "Epoch 86/100\n",
            "781/781 [==============================] - 26s 33ms/step - loss: 0.4134 - accuracy: 0.8926 - val_loss: 0.4632 - val_accuracy: 0.8841 - lr: 3.0000e-04\n",
            "Epoch 87/100\n",
            "781/781 [==============================] - 26s 33ms/step - loss: 0.4170 - accuracy: 0.8914 - val_loss: 0.4648 - val_accuracy: 0.8866 - lr: 3.0000e-04\n",
            "Epoch 88/100\n",
            "781/781 [==============================] - 26s 34ms/step - loss: 0.4154 - accuracy: 0.8936 - val_loss: 0.4830 - val_accuracy: 0.8814 - lr: 3.0000e-04\n",
            "Epoch 89/100\n",
            "781/781 [==============================] - 26s 33ms/step - loss: 0.4102 - accuracy: 0.8935 - val_loss: 0.4623 - val_accuracy: 0.8833 - lr: 3.0000e-04\n",
            "Epoch 90/100\n",
            "781/781 [==============================] - 26s 33ms/step - loss: 0.4086 - accuracy: 0.8939 - val_loss: 0.4468 - val_accuracy: 0.8920 - lr: 3.0000e-04\n",
            "Epoch 91/100\n",
            "781/781 [==============================] - 26s 34ms/step - loss: 0.4109 - accuracy: 0.8928 - val_loss: 0.4960 - val_accuracy: 0.8788 - lr: 3.0000e-04\n",
            "Epoch 92/100\n",
            "781/781 [==============================] - 26s 34ms/step - loss: 0.4055 - accuracy: 0.8946 - val_loss: 0.5045 - val_accuracy: 0.8760 - lr: 3.0000e-04\n",
            "Epoch 93/100\n",
            "781/781 [==============================] - 26s 34ms/step - loss: 0.4072 - accuracy: 0.8931 - val_loss: 0.4582 - val_accuracy: 0.8849 - lr: 3.0000e-04\n",
            "Epoch 94/100\n",
            "781/781 [==============================] - 26s 33ms/step - loss: 0.4105 - accuracy: 0.8930 - val_loss: 0.4921 - val_accuracy: 0.8799 - lr: 3.0000e-04\n",
            "Epoch 95/100\n",
            "781/781 [==============================] - 26s 33ms/step - loss: 0.4059 - accuracy: 0.8934 - val_loss: 0.4627 - val_accuracy: 0.8858 - lr: 3.0000e-04\n",
            "Epoch 96/100\n",
            "781/781 [==============================] - 26s 34ms/step - loss: 0.4046 - accuracy: 0.8945 - val_loss: 0.4582 - val_accuracy: 0.8868 - lr: 3.0000e-04\n",
            "Epoch 97/100\n",
            "781/781 [==============================] - 26s 34ms/step - loss: 0.4063 - accuracy: 0.8926 - val_loss: 0.4391 - val_accuracy: 0.8908 - lr: 3.0000e-04\n",
            "Epoch 98/100\n",
            "781/781 [==============================] - 26s 34ms/step - loss: 0.4053 - accuracy: 0.8944 - val_loss: 0.4959 - val_accuracy: 0.8745 - lr: 3.0000e-04\n",
            "Epoch 99/100\n",
            "781/781 [==============================] - 27s 34ms/step - loss: 0.4069 - accuracy: 0.8944 - val_loss: 0.4915 - val_accuracy: 0.8773 - lr: 3.0000e-04\n",
            "Epoch 100/100\n",
            "781/781 [==============================] - 26s 34ms/step - loss: 0.4057 - accuracy: 0.8933 - val_loss: 0.4806 - val_accuracy: 0.8792 - lr: 3.0000e-04\n"
          ]
        },
        {
          "output_type": "execute_result",
          "data": {
            "text/plain": [
              "<keras.callbacks.History at 0x7fca1ad05310>"
            ]
          },
          "metadata": {},
          "execution_count": 25
        }
      ],
      "source": [
        "def lr_schedule(epoch):\n",
        "    lrate = 0.001\n",
        "    if epoch > 30:\n",
        "        lrate = 0.0005\n",
        "    if epoch > 70:\n",
        "        lrate = 0.0003\n",
        "    return lrate\n",
        "\n",
        "datagen = keras.preprocessing.image.ImageDataGenerator(\n",
        "    rotation_range=15,\n",
        "    width_shift_range=0.1,\n",
        "    height_shift_range=0.1,\n",
        "    horizontal_flip=True,\n",
        "    )\n",
        "datagen.fit(x_train)\n",
        "\n",
        "batch_size = 64  \n",
        "epochs = 100\n",
        "\n",
        "model_2.compile(loss='categorical_crossentropy',\n",
        "              optimizer='adam',\n",
        "              metrics=['accuracy'])\n",
        "\n",
        "model_2.fit(datagen.flow(x_train, y_train, batch_size=batch_size),\n",
        "                    steps_per_epoch=x_train.shape[0]  // batch_size,epochs=epochs,\\\n",
        "                    verbose=1,validation_data=(x_test,y_test),\\\n",
        "                    callbacks=[keras.callbacks.LearningRateScheduler(lr_schedule)])\n"
      ]
    },
    {
      "cell_type": "code",
      "execution_count": 26,
      "metadata": {
        "id": "KbUqNMHqGpE0",
        "colab": {
          "base_uri": "https://localhost:8080/"
        },
        "outputId": "6cb7f888-bb9d-4be2-e225-fae134946e56"
      },
      "outputs": [
        {
          "output_type": "stream",
          "name": "stdout",
          "text": [
            "Test loss: 0.4806486964225769\n",
            "Test accuracy: 0.8791999816894531\n"
          ]
        }
      ],
      "source": [
        "score = model_2.evaluate(x_test, y_test, verbose=0)\n",
        "print('Test loss:', score[0])\n",
        "print('Test accuracy:', score[1])"
      ]
    }
  ],
  "metadata": {
    "interpreter": {
      "hash": "c69d141fca959081254a0b2e02e55787369c1159b7ddbc81e1232bfadcd3a9e7"
    },
    "kernelspec": {
      "display_name": "Python 3.10.3 64-bit",
      "language": "python",
      "name": "python3"
    },
    "language_info": {
      "codemirror_mode": {
        "name": "ipython",
        "version": 3
      },
      "file_extension": ".py",
      "mimetype": "text/x-python",
      "name": "python",
      "nbconvert_exporter": "python",
      "pygments_lexer": "ipython3",
      "version": "3.10.3"
    },
    "colab": {
      "name": "CNN_CIFAR-10_475.ipynb",
      "provenance": [],
      "collapsed_sections": []
    },
    "accelerator": "GPU",
    "gpuClass": "standard"
  },
  "nbformat": 4,
  "nbformat_minor": 0
}